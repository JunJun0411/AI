{
 "cells": [
  {
   "cell_type": "code",
   "execution_count": 10,
   "metadata": {},
   "outputs": [
    {
     "data": {
      "text/plain": [
       "2.0059238249737697e-05"
      ]
     },
     "execution_count": 10,
     "metadata": {},
     "output_type": "execute_result"
    }
   ],
   "source": [
    "# coding: utf-8\n",
    "import sys, os\n",
    "import argparse\n",
    "import time\n",
    "import numpy as np\n",
    "sys.path.append(os.pardir)\n",
    "\n",
    "from AReM import *\n",
    "from model import *\n",
    "\n",
    "\n",
    "class Tester:\n",
    "    \"\"\"\n",
    "    test 해주는 클래스. 수정불가\n",
    "    ----------\n",
    "    network : 네트워크\n",
    "    x_test : 발리데이션 데이터\n",
    "    t_test : 발리데이션 데이터에 대한 라벨\n",
    "    mini_batch_size : 미니배치 사이즈\n",
    "    verbose : 출력여부\n",
    "\n",
    "    ----------\n",
    "    \"\"\"\n",
    "    def __init__(self, network, x_test, t_test, mini_batch_size=100, verbose=True):\n",
    "        self.network = network\n",
    "        self.x_test = x_test\n",
    "        self.t_test = t_test\n",
    "        self.batch_size = int(mini_batch_size)\n",
    "        self.verbose = verbose\n",
    "        self.train_size = x_test.shape[0]\n",
    "\n",
    "    def accuracy(self, x, t):\n",
    "        \"\"\"\n",
    "        수정불가\n",
    "        \"\"\"\n",
    "        if t.ndim != 1: t = np.argmax(t, axis=1)\n",
    "\n",
    "        acc = 0.0\n",
    "        start_time = time.time()\n",
    "\n",
    "        for i in range(int(x.shape[0] / self.batch_size)):\n",
    "            tx = x[i * self.batch_size:(i + 1) * self.batch_size]\n",
    "            tt = t[i * self.batch_size:(i + 1) * self.batch_size]\n",
    "\n",
    "            y = self.network.predict(tx)\n",
    "            y = np.argmax(y, axis=1)\n",
    "            acc += np.sum(y == tt)\n",
    "\n",
    "        inference_time = (time.time()-start_time)/x.shape[0]\n",
    "\n",
    "        return acc / x.shape[0], inference_time\n",
    "\n",
    "if __name__ == '__main__':\n",
    "#     parser = argparse.ArgumentParser(description=\"사용예)python test.py --sf=myparam.\")\n",
    "#     parser.add_argument(\"--sf\", required=False, default=\"params.pkl\", help=\"save_file_name\")\n",
    "#     args = parser.parse_args()\n",
    "    args = arg(100, 100, 0.005, \"params.pkl\")\n",
    "    \n",
    "    (_, _), (x_test, t_test) = load_AReM(one_hot_label=False)\n",
    "\n",
    "    network = Model()\n",
    "\n",
    "    tester = Tester(network, x_test, t_test)\n",
    "\n",
    "    network.load_params(args.sf)\n",
    "\n",
    "\n",
    "    # 배치사이즈100으로 accuracy test, 다른 배치사이즈로 학습했다면 결과가 달라질 수 있습니다.\n",
    "    test_acc, inference_time = tester.accuracy(x_test, t_test)\n",
    "\n",
    "    print(\"=============== Final Test Accuracy ===============\")\n",
    "    print(\"test acc:\" + str(test_acc) + \", inference_time:\" + str(inference_time))\n"
   ]
  },
  {
   "cell_type": "code",
   "execution_count": 13,
   "metadata": {},
   "outputs": [],
   "source": [
    "import pickle\n",
    "def save_params(file_name=\"testparams.pkl\"):\n",
    "    \"\"\"\n",
    "    네트워크 파라미터를 피클 파일로 저장하는 함수입니다.\n",
    "\n",
    "    :param file_name: 파라미터를 저장할 파일 이름입니다. 기본값은 \"params.pkl\" 입니다.\n",
    "    \"\"\"\n",
    "    params = {}\n",
    "    params['W1']=[1,2,3,4]\n",
    "    params['b1']=[2,3,4,5]\n",
    "    params['mean']= [222,222,222]\n",
    "    params['std']= [22,11,11]\n",
    "    for key, val in params.items():\n",
    "        params[key] = val\n",
    "        with open(file_name, 'wb') as f:\n",
    "            pickle.dump(params, f)\n",
    "\n",
    "def load_params(file_name=\"testparams.pkl\"):\n",
    "    \"\"\"\n",
    "    저장된 파라미터를 읽어와 네트워크에 탑재하는 함수입니다.\n",
    "\n",
    "    :param file_name: 파라미터를 로드할 파일 이름입니다. 기본값은 \"params.pkl\" 입니다.\n",
    "    \"\"\"\n",
    "    with open(file_name, 'rb') as f:\n",
    "        params = pickle.load(f)\n",
    "    for key, val in params.items():\n",
    "        params[key] = val\n",
    "        print(key, val)\n",
    "    \n",
    "    \n",
    "save_params()\n",
    "load_params()"
   ]
  },
  {
   "cell_type": "code",
   "execution_count": 27,
   "metadata": {},
   "outputs": [
    {
     "name": "stdout",
     "output_type": "stream",
     "text": [
      "4.636786651509768\n"
     ]
    },
    {
     "data": {
      "text/plain": [
       "[0.022825178960458655,\n",
       " 1.1744595050208283e-08,\n",
       " 0.036695718714476314,\n",
       " 6.702173506739085e-06,\n",
       " 0.0015197698481763467,\n",
       " 1.6535166906215784,\n",
       " 0.1367592274800453,\n",
       " 8.823585479073603e-05,\n",
       " 0.004105517410579917,\n",
       " 4.636786651509768]"
      ]
     },
     "execution_count": 27,
     "metadata": {},
     "output_type": "execute_result"
    }
   ],
   "source": [
    "import numpy as np\n",
    "learningRate = []\n",
    "for i in range(10):\n",
    "    learningRate.append(10 ** np.random.uniform (-6. -2))\n",
    "print(max(learningRate))\n",
    "learningRate"
   ]
  },
  {
   "cell_type": "code",
   "execution_count": 39,
   "metadata": {},
   "outputs": [
    {
     "data": {
      "text/plain": [
       "2.622717229233946e-06"
      ]
     },
     "execution_count": 39,
     "metadata": {},
     "output_type": "execute_result"
    }
   ],
   "source": [
    "10 ** np.random.uniform(-6, -2)"
   ]
  }
 ],
 "metadata": {
  "kernelspec": {
   "display_name": "Python 3",
   "language": "python",
   "name": "python3"
  },
  "language_info": {
   "codemirror_mode": {
    "name": "ipython",
    "version": 3
   },
   "file_extension": ".py",
   "mimetype": "text/x-python",
   "name": "python",
   "nbconvert_exporter": "python",
   "pygments_lexer": "ipython3",
   "version": "3.7.6"
  }
 },
 "nbformat": 4,
 "nbformat_minor": 4
}
