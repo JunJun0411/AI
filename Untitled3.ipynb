{
 "cells": [
  {
   "cell_type": "code",
   "execution_count": 13,
   "metadata": {},
   "outputs": [
    {
     "name": "stdout",
     "output_type": "stream",
     "text": [
      "0.510825457099338\n",
      "0.6019862188296516\n",
      "0.1999999999990898\n",
      "0.2999999999986347\n"
     ]
    }
   ],
   "source": [
    "import numpy as np\n",
    "\n",
    "y1 = np.array([0.1, 0.05, 0, 0.6, 0, 0.1, 0, 0.4, 0.05, 0])\n",
    "t1 = np.array([0,0,0,1,0,0,0,0,0,0])\n",
    "\n",
    "y2 = np.array([[0.1, 0.05, 0, 0.6, 0, 0.1, 0, 0.4, 0.05, 0],\n",
    "              [0.1, 0.05, 0, 0.06,0,0.1,0,0.4,0.5,0]])\n",
    "t2 = np.array([[0,0,0,1,0,0,0,0,0,0],\n",
    "              [0,0,0,0,0,0,0,0,1,0]])\n",
    "\n",
    "# 교차 엔트로피 에러값 구하기\n",
    "def cross_entropy_error(y, t):\n",
    "    epsilon = 1e-7\n",
    "    \n",
    "    if y.ndim == 1:\n",
    "        t = t.reshape(1, t.size)\n",
    "        y = y.reshape(1, y.size)\n",
    "    batch_size = t.shape[0]\n",
    "    cee = -np.sum(t * np.log(y+ epsilon)) / batch_size\n",
    "    return cee\n",
    "print(cross_entropy_error(y1, t1))\n",
    "print(cross_entropy_error(y2, t2))\n",
    "\n",
    "# 미분 할 식\n",
    "def f1(x):\n",
    "    return 0.01*x**2 + 0.1*x\n",
    "\n",
    "# 미분\n",
    "def numerical_difference(f, x):\n",
    "    h = 1e-4\n",
    "    return (f(x+h) - f(x-h)) / (2*h)\n",
    "    \n",
    "print(numerical_difference(f1, 5))\n",
    "print(numerical_difference(f1, 10))"
   ]
  }
 ],
 "metadata": {
  "kernelspec": {
   "display_name": "Python 3",
   "language": "python",
   "name": "python3"
  },
  "language_info": {
   "codemirror_mode": {
    "name": "ipython",
    "version": 3
   },
   "file_extension": ".py",
   "mimetype": "text/x-python",
   "name": "python",
   "nbconvert_exporter": "python",
   "pygments_lexer": "ipython3",
   "version": "3.7.3"
  }
 },
 "nbformat": 4,
 "nbformat_minor": 2
}
