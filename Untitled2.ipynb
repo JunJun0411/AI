{
 "cells": [
  {
   "cell_type": "code",
   "execution_count": 9,
   "metadata": {},
   "outputs": [
    {
     "name": "stdout",
     "output_type": "stream",
     "text": [
      "1\n",
      "[0 1 0 0 1 1]\n"
     ]
    },
    {
     "data": {
      "image/png": "[encoded data removed]",
      "text/plain": [
       "<Figure size 432x288 with 1 Axes>"
      ]
     },
     "metadata": {
      "needs_background": "light"
     },
     "output_type": "display_data"
    }
   ],
   "source": [
    "import numpy as np\n",
    "import matplotlib.pyplot as plt\n",
    "\n",
    "x1 = np.array([-1,1,0,-800,900, 10000])\n",
    "\n",
    "def step_function(x):\n",
    "    return (np.array(x>0, dtype=np.int8))\n",
    "\n",
    "# print(step_function(1))\n",
    "# print(step_function(x1))\n",
    "\n",
    "# x = np.arange(-5.0, 5.0, 0.1)\n",
    "# y = step_function(x)\n",
    "# plt.plot(x,y)\n",
    "# plt.show()"
   ]
  },
  {
   "cell_type": "code",
   "execution_count": 10,
   "metadata": {},
   "outputs": [
    {
     "name": "stdout",
     "output_type": "stream",
     "text": [
      "[0.26894142 0.73105858 0.5        0.         1.         1.        ]\n"
     ]
    },
    {
     "name": "stderr",
     "output_type": "stream",
     "text": [
      "C:\\Users\\Jun\\anaconda3\\lib\\site-packages\\ipykernel_launcher.py:7: RuntimeWarning: overflow encountered in exp\n",
      "  import sys\n"
     ]
    },
    {
     "data": {
      "image/png": "[encoded data removed]",
      "text/plain": [
       "<Figure size 432x288 with 1 Axes>"
      ]
     },
     "metadata": {
      "needs_background": "light"
     },
     "output_type": "display_data"
    }
   ],
   "source": [
    "import numpy as np\n",
    "import matplotlib.pyplot as plt\n",
    "\n",
    "x1 = np.array([-1,1,0,-800,900, 10000])\n",
    "\n",
    "def sigmoid(x):\n",
    "    return (1 / (1+np.exp(-x)))\n",
    "\n",
    "# print(sigmoid(x1))\n",
    "\n",
    "# x = np.arange(-5.0, 5.0, 0.1)\n",
    "# y = sigmoid(x)\n",
    "# plt.plot(x,y)\n",
    "# plt.show()"
   ]
  },
  {
   "cell_type": "code",
   "execution_count": 12,
   "metadata": {},
   "outputs": [
    {
     "name": "stdout",
     "output_type": "stream",
     "text": [
      "[    0     1     0     0   900 10000]\n"
     ]
    },
    {
     "data": {
      "image/png": "[encoded data removed]",
      "text/plain": [
       "<Figure size 432x288 with 1 Axes>"
      ]
     },
     "metadata": {
      "needs_background": "light"
     },
     "output_type": "display_data"
    }
   ],
   "source": [
    "import numpy as np\n",
    "import matplotlib.pyplot as plt\n",
    "\n",
    "x1 = np.array([-1,1,0,-800,900, 10000])\n",
    "\n",
    "def reLU(x):\n",
    "    return (np.maximum(x, 0))\n",
    "\n",
    "# print(reLU(x1))\n",
    "\n",
    "# x = np.arange(-5.0, 5.0, 0.1)\n",
    "# y = reLU(x)\n",
    "# plt.plot(x,y)\n",
    "# plt.show()"
   ]
  },
  {
   "cell_type": "code",
   "execution_count": 6,
   "metadata": {},
   "outputs": [
    {
     "name": "stdout",
     "output_type": "stream",
     "text": [
      "[[7.58220983e-10 5.60253738e-09 2.06105832e-09]\n",
      " [9.99953762e-01 4.53978306e-05 8.31490271e-07]]\n",
      "1.0\n"
     ]
    }
   ],
   "source": [
    "import numpy as np\n",
    "import matplotlib.pyplot as plt\n",
    "\n",
    "x1 = np.array([[-1, 1, 0],\n",
    "               [ 20, 10, 6]])\n",
    "x2 = np.array([-1, 4, 7, -9])\n",
    "def Softmax(x):\n",
    "    exp_a = np.exp(x - np.max(x))\n",
    "    sum_exp_a = np.sum(exp_a)\n",
    "#     print(exp_a)\n",
    "#     print(sum_exp_a)\n",
    "    return exp_a / sum_exp_a\n",
    "\n",
    "print(Softmax(x1))\n",
    "print(np.sum(Softmax(x1)))\n",
    "\n",
    "# x = np.arange(-5.0, 5.0, 0.1)\n",
    "# y = reLU(x)\n",
    "# plt.plot(x,y)\n",
    "# plt.show()"
   ]
  },
  {
   "cell_type": "code",
   "execution_count": 1,
   "metadata": {},
   "outputs": [
    {
     "name": "stdout",
     "output_type": "stream",
     "text": [
      "[8.4412648e-05 2.6350681e-06 7.1549520e-04 1.2586274e-03 1.1727965e-06\n",
      " 4.4990851e-05 1.6269318e-08 9.9706501e-01 9.3744884e-06 8.1831275e-04]\n",
      "[4.8363330e-03 1.1045857e-03 9.4425237e-01 1.4309132e-02 5.6989512e-07\n",
      " 6.6760369e-03 2.7533349e-02 1.2708435e-06 1.2864231e-03 4.7864624e-08]\n",
      "[1.0358319e-07 9.8897260e-01 4.2894897e-03 1.7832081e-03 1.3173360e-04\n",
      " 7.5940735e-04 4.6890968e-04 2.2699721e-03 1.2378690e-03 8.6714586e-05]\n",
      "[9.9411470e-01 8.2114703e-08 1.5906454e-03 1.8977524e-04 4.3212358e-06\n",
      " 3.3713970e-03 4.0662949e-04 2.3197019e-04 4.8360227e-05 4.2039297e-05]\n",
      "[2.0664294e-04 6.5651075e-06 2.8900336e-03 3.3272012e-05 9.5477366e-01\n",
      " 4.8161991e-04 2.0392602e-03 5.4869489e-03 1.4368899e-03 3.2645263e-02]\n"
     ]
    }
   ],
   "source": [
    "import sys, os\n",
    "sys.path.append(os.pardir)\n",
    "import numpy as np\n",
    "import pickle\n",
    "from dataset.mnist import load_mnist\n",
    "from PIL import Image\n",
    "\n",
    "class MNIST_Predict():\n",
    "    def __init__(self):\n",
    "        self.x_test, self.t_test = self.load_data()\n",
    "        network = self.init_network()\n",
    "        self.W1 = network['W1']\n",
    "        self.W2 = network['W2']\n",
    "        self.W3 = network['W3']\n",
    "        self.b1 = network['b1']\n",
    "        self.b2 = network['b2']\n",
    "        self.b3 = network['b3']\n",
    "        \n",
    "    def load_data(self):\n",
    "        (x_train, t_train), (x_test, t_test) = load_mnist(flatten=True, normalize=True, one_hot_label = False)\n",
    "        return x_test, t_test\n",
    "\n",
    "    def init_network(self):\n",
    "        with open(\"sample_weight.pkl\", 'rb') as f:\n",
    "            network = pickle.load(f)\n",
    "\n",
    "        return network\n",
    "\n",
    "    def sigmoid(self, x):\n",
    "        return (1 / (1+np.exp(-x)))\n",
    "    \n",
    "    def Softmax(self, x):\n",
    "        exp_a = np.exp(x - np.max(x))\n",
    "        sum_exp_a = np.sum(exp_a)\n",
    "        return exp_a / sum_exp_a\n",
    "    \n",
    "    def predict(self, x):\n",
    "        a1 = np.dot(x, self.W1) + self.b1\n",
    "        z1 = self.sigmoid(a1)\n",
    "        a2 = np.dot(z1, self.W2) + self.b2\n",
    "        z2 = self.sigmoid(a2)\n",
    "        a3 = np.dot(z2, self.W3) + self.b3\n",
    "        y = self.Softmax(a3)\n",
    "        \n",
    "        return y\n",
    "    \n",
    "mnist = MNIST_Predict()\n",
    "\n",
    "num = 5\n",
    "count = 0\n",
    "for i in range(num):\n",
    "    y = mnist.predict(mnist.x_test[i])\n",
    "    print(y)"
   ]
  }
 ],
 "metadata": {
  "kernelspec": {
   "display_name": "Python 3",
   "language": "python",
   "name": "python3"
  },
  "language_info": {
   "codemirror_mode": {
    "name": "ipython",
    "version": 3
   },
   "file_extension": ".py",
   "mimetype": "text/x-python",
   "name": "python",
   "nbconvert_exporter": "python",
   "pygments_lexer": "ipython3",
   "version": "3.7.6"
  }
 },
 "nbformat": 4,
 "nbformat_minor": 4
}
