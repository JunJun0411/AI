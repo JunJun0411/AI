{
 "cells": [
  {
   "cell_type": "code",
   "execution_count": 1,
   "metadata": {},
   "outputs": [],
   "source": [
    "import numpy as np\n",
    "import os\n",
    "from sklearn.datasets import load_iris\n",
    "from PIL import Image\n",
    "import matplotlib.pyplot as plt\n",
    "from sklearn.model_selection import train_test_split\n",
    "from TwoLayerNeuralNetwork import TwoLayerNeuralNetwork"
   ]
  },
  {
   "cell_type": "code",
   "execution_count": 2,
   "metadata": {},
   "outputs": [],
   "source": [
    "iris = load_iris()\n",
    "X = iris.data #150X4\n",
    "t = iris.target #150\n",
    "X_train, X_test, t_train, t_test = train_test_split(X, t, test_size = 0.2)\n",
    "X_train[0].shape\n",
    "\n",
    "# one_hot encoding\n",
    "num = np.unique(t_train, axis = 0)\n",
    "num = num.shape[0]\n",
    "t_train = np.eye(num)[t_train]\n",
    "\n",
    "num2 = np.unique(t_test, axis = 0)\n",
    "num2 = num2.shape[0]\n",
    "t_test = np.eye(num2)[t_test]"
   ]
  },
  {
   "cell_type": "code",
   "execution_count": 3,
   "metadata": {},
   "outputs": [],
   "source": [
    "hidden_layer = [5, 10]\n",
    "epoch = [5000]\n",
    "learning_rate = [0.001, 0.01]\n",
    "batch_size = [120]"
   ]
  },
  {
   "cell_type": "code",
   "execution_count": 4,
   "metadata": {},
   "outputs": [
    {
     "name": "stdout",
     "output_type": "stream",
     "text": [
      "Training Accuracy:  0.725\n",
      "Test Accuracy:  0.8\n",
      "Training Accuracy:  0.8333333333333334\n",
      "Test Accuracy:  0.8\n",
      "Training Accuracy:  0.9583333333333334\n",
      "Test Accuracy:  1.0\n",
      "Training Accuracy:  0.9666666666666667\n",
      "Test Accuracy:  1.0\n"
     ]
    },
    {
     "data": {
      "text/plain": [
       "<Figure size 432x288 with 0 Axes>"
      ]
     },
     "metadata": {},
     "output_type": "display_data"
    }
   ],
   "source": [
    "for bch in batch_size:\n",
    "    for lr in learning_rate:\n",
    "        for ep in epoch:\n",
    "            for hlayer in hidden_layer:\n",
    "                #fname = 'batch_size ={} , hidden_size = {}, lr = {}, epoch = {}.txt'.format(bch, hlayer, lr, ep)\n",
    "                f = open('./twolayernn_pltimg/batch={},hidden={},lr={},ep={}.txt'.format(bch, hlayer, lr, ep), 'w', encoding = 'utf8')\n",
    "                \n",
    "                nn = TwoLayerNeuralNetwork(4, hlayer, 3)\n",
    "                nn.init_data(X_train, t_train)\n",
    "                nn.learn(batch = bch, lr = lr, epoch = ep, file = f)\n",
    "                tr = nn.accuracy(X_train, t_train)\n",
    "                te = nn.accuracy(X_test, t_test)\n",
    "                print('Training Accuracy: ', tr)\n",
    "                print('Test Accuracy: ', te)\n",
    "                \n",
    "                f.write('Training Accuracy: {}\\n'.format(tr))\n",
    "                f.write('Test Accuracy: {}'.format(te))\n",
    "                f.close()"
   ]
  },
  {
   "cell_type": "code",
   "execution_count": null,
   "metadata": {},
   "outputs": [],
   "source": []
  }
 ],
 "metadata": {
  "kernelspec": {
   "display_name": "Python 3",
   "language": "python",
   "name": "python3"
  },
  "language_info": {
   "codemirror_mode": {
    "name": "ipython",
    "version": 3
   },
   "file_extension": ".py",
   "mimetype": "text/x-python",
   "name": "python",
   "nbconvert_exporter": "python",
   "pygments_lexer": "ipython3",
   "version": "3.7.3"
  }
 },
 "nbformat": 4,
 "nbformat_minor": 4
}
