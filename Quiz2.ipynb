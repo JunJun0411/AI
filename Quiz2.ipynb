{
 "cells": [
  {
   "cell_type": "code",
   "execution_count": 53,
   "metadata": {},
   "outputs": [
    {
     "name": "stdout",
     "output_type": "stream",
     "text": [
      "User Name adminhas been already taken.\n",
      "User Name matyhas been already taken.\n",
      "['admin', 'dan', 'angie', 'maty', 'sharelle', 'rhoda', 'jake', 'ronny', 'andy']\n",
      "[]\n"
     ]
    }
   ],
   "source": [
    "pizza = ['peperoni', 'hawaian', 'supreme']\n",
    "for i in pizza:\n",
    "    print(i)\n",
    "\n",
    "pets = ['dog', 'cat', 'dog', 'goldfish', 'cat', 'rabbit', 'cat'] \n",
    "while 'cat' in pets:\n",
    "    pets.remove('cat')\n",
    "    \n",
    "print(pets)\n",
    "print(list(set(pets)))\n",
    "\n",
    "num1_9 = [x for x in range(1, 10)]\n",
    "\n",
    "for i in num1_9:\n",
    "    if i is 1:\n",
    "        print(str(i) + \"st\")\n",
    "    elif i is 2:\n",
    "        print(str(i) + \"nd\")\n",
    "    elif i is 3:\n",
    "        print(str(i) + \"rd\")\n",
    "    else:\n",
    "        print(str(i) + \"th\")\n",
    "\n",
    "new_users = ['admin', 'jake', 'maty', 'ronny', 'andy']\n",
    "current_users = ['admin', 'dan', 'angie', 'maty', 'sharelle', 'rhoda']\n",
    "\n",
    "for i in new_users:\n",
    "    if i in current_users:\n",
    "        print(\"User Name \" + i + \"has been already taken.\")\n",
    "    else:\n",
    "        current_users.append(i)\n",
    "        \n",
    "print(current_users)\n",
    "\n",
    "# for i in current_users:\n",
    "#     if i in new_users:\n",
    "#         new_users.remove(i)\n",
    "\n",
    "#이미 모두 pop해야하는 결과를 안다면\n",
    "while new_users:\n",
    "    new_users.pop()\n",
    "\n",
    "print(new_users)"
   ]
  },
  {
   "cell_type": "code",
   "execution_count": 45,
   "metadata": {},
   "outputs": [
    {
     "data": {
      "text/plain": [
       "['admin', 'maty']"
      ]
     },
     "execution_count": 45,
     "metadata": {},
     "output_type": "execute_result"
    }
   ],
   "source": [
    "# 대문자 소문자 구분\n",
    "new_users = ['admin', 'jake', 'Maty', 'ronny', 'andy']\n",
    "current_users = ['Admin', 'dan', 'angie', 'maty', 'sharelle', 'rhoda']\n",
    "new_users = list(set(new_users) & set(current_users))\n",
    "new_users"
   ]
  }
 ],
 "metadata": {
  "kernelspec": {
   "display_name": "Python 3",
   "language": "python",
   "name": "python3"
  },
  "language_info": {
   "codemirror_mode": {
    "name": "ipython",
    "version": 3
   },
   "file_extension": ".py",
   "mimetype": "text/x-python",
   "name": "python",
   "nbconvert_exporter": "python",
   "pygments_lexer": "ipython3",
   "version": "3.7.3"
  }
 },
 "nbformat": 4,
 "nbformat_minor": 2
}
