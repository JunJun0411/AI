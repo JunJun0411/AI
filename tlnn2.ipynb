{
 "cells": [
  {
   "cell_type": "code",
   "execution_count": 2,
   "metadata": {},
   "outputs": [],
   "source": [
    "import numpy as np\n",
    "from functions import sigmoid, softmax\n",
    "\n",
    "class TwoLayerNeuralNetwork2:\n",
    "    \"\"\" a neural network with one hidden layer \"\"\"\n",
    "    def __init__(self, input_size, hidden_size, output_size):\n",
    "        \"\"\" initialize parameters \"\"\"\n",
    "        self.params = {}\n",
    "        # input --> hidden layer\n",
    "        self.params['W1'] = np.random.randn(input_size, hidden_size)\n",
    "        self.params['b1'] = np.random.randn(hidden_size)\n",
    "        # hidden layer --> output layer\n",
    "        self.params['W2'] = np.random.randn(hidden_size, output_size)\n",
    "        self.params['b2'] = np.random.randn(output_size)\n",
    "        self.input_size, self.output_size = input_size, output_size # input, output size 저장\n",
    "        \n",
    "    def predict(self, x):\n",
    "        \"\"\"calculate output given input and current parameters: W1, b1, W2, b2 \"\"\"\n",
    "        W1, W2 = self.params['W1'], self.params['W2']\n",
    "        b1, b2 = self.params['b1'], self.params['b2']\n",
    "        \n",
    "        # input --> hidden layer : sigmoid\n",
    "        z2 = np.dot(x, W1) + b1\n",
    "        a2 = sigmoid(z2)\n",
    "        \n",
    "        # hidden layer --> output : softmax\n",
    "        z3 = np.dot(a2, W2) + b2\n",
    "        y = softmax(z3)\n",
    "        \n",
    "        return y\n",
    "    \n",
    "    def loss(self, x, t):\n",
    "        y = self.predict(x)\n",
    "        return cross_entropy_error(y, t)\n",
    "        \n",
    "#     def accuracy(selfself, x, t):\n",
    "#     def numerical_gradient(self, x, t):\n",
    "#     def learn(self, lr, epoch):\n"
   ]
  }
 ],
 "metadata": {
  "kernelspec": {
   "display_name": "Python 3",
   "language": "python",
   "name": "python3"
  },
  "language_info": {
   "codemirror_mode": {
    "name": "ipython",
    "version": 3
   },
   "file_extension": ".py",
   "mimetype": "text/x-python",
   "name": "python",
   "nbconvert_exporter": "python",
   "pygments_lexer": "ipython3",
   "version": "3.7.6"
  }
 },
 "nbformat": 4,
 "nbformat_minor": 4
}
