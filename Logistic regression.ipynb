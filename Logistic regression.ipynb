{
 "cells": [
  {
   "cell_type": "code",
   "execution_count": 3,
   "metadata": {},
   "outputs": [],
   "source": [
    "import pickle\n",
    "from array, dot, sum import numpy\n",
    "\n",
    "class Logistic_Regression():\n",
    "    def __init__(self, X_train, y_train):\n",
    "        self.X_train = X_train\n",
    "        self.y_train = y_train\n",
    "        network = self.init_network()\n",
    "        self.W1 = network['W1']\n",
    "        self.W2 = network['W2']\n",
    "        self.W3 = network['W3']\n",
    "        self.b1 = network['b1']\n",
    "        self.b2 = network['b2']\n",
    "        self.b3 = network['b3']\n",
    "        \n",
    "    def init_network(self):\n",
    "        with open(\"sample_weight.pkl\", 'rb') as f:\n",
    "            network = pickle.load(f)\n",
    "        return network\n",
    "    \n",
    "    def cost(self):\n",
    "        \n",
    "    def learn(self):\n",
    "        \n",
    "    def predict(self):\n"
   ]
  },
  {
   "cell_type": "code",
   "execution_count": 2,
   "metadata": {},
   "outputs": [],
   "source": [
    "import numpy as np\n",
    "import matplotlib.pyplot as plt\n",
    "from sklearn.datasets import load_iris\n",
    "\n",
    "iris = load_iris()\n",
    "# print(iris)\n",
    "\n",
    "X = iris.data # iris data input\n",
    "\n",
    "# y의 label을 두개로 하고싶다면\n",
    "# y = np.where(iris.target==2, 0, iris.target) \n",
    "y = iris.target # iris target (label)\n",
    "\n",
    "y_name = iris.target_names # label 2개로 할 땐 [:2] 붙여주자\n",
    "# print(y_name)\n",
    "\n",
    "# Use 2/3 for training & 1/3 for testing\n",
    "l = 3\n",
    "for_test = np.array([i%l == (l-1) for i in range(y.shape[0])])\n",
    "for_train = ~for_test\n",
    "\n",
    "# for training data (X, y)\n",
    "X_train = X[for_train]\n",
    "y_train = y[for_train]\n",
    "\n",
    "# for testing data (X, y)\n",
    "X_test = X[for_test]\n",
    "y_test = y[for_test]"
   ]
  }
 ],
 "metadata": {
  "kernelspec": {
   "display_name": "Python 3",
   "language": "python",
   "name": "python3"
  },
  "language_info": {
   "codemirror_mode": {
    "name": "ipython",
    "version": 3
   },
   "file_extension": ".py",
   "mimetype": "text/x-python",
   "name": "python",
   "nbconvert_exporter": "python",
   "pygments_lexer": "ipython3",
   "version": "3.7.6"
  }
 },
 "nbformat": 4,
 "nbformat_minor": 4
}
