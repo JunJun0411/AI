{
 "cells": [
  {
   "cell_type": "code",
   "execution_count": 16,
   "metadata": {},
   "outputs": [
    {
     "name": "stdout",
     "output_type": "stream",
     "text": [
      "[[2.68941421e-001 7.31058579e-001 5.00000000e-001 1.00000000e+000\n",
      "  5.56268465e-309 1.00000000e+000]\n",
      " [8.80797078e-001 9.82013790e-001 5.00000000e-001 7.31058579e-001\n",
      "  9.99954602e-001 9.93307149e-001]]\n"
     ]
    }
   ],
   "source": [
    "import numpy as np\n",
    "\n",
    "x1 = np.array([[-1, 1, 0, 800, -900, 10000],\n",
    "              [2, 4, 0, 1, 10, 5]])\n",
    "x2 = np.array([-1, 4, 7, -9])\n",
    "x3 = np.array([2, 4, 0, 1, 10, 5])\n",
    "\n",
    "def step_function(x):\n",
    "    \"\"\" 계단 함수 \"\"\"\n",
    "    return (np.array(x>0, dtype=np.int8))\n",
    "\n",
    "# print(step_function(1))\n",
    "# print(step_function(x1))\n",
    "\n",
    "# x = np.arange(-5.0, 5.0, 0.1)\n",
    "# y = step_function(x)\n",
    "# plt.plot(x,y)\n",
    "# plt.show()\n",
    "\n",
    "\n",
    "def sigmoid(x):\n",
    "    \"\"\" 시그모이드 함수 \"\"\"\n",
    "    EMIN = -np.log(np.finfo(type(0.1)).max)\n",
    "    xSafe = np.array(np.maximum(x, EMIN))\n",
    "    return(1.0/(1+np.exp(-xSafe)))\n",
    "\n",
    "# print(sigmoid(x1))\n",
    "\n",
    "# x = np.arange(-5.0, 5.0, 0.1)\n",
    "# y = sigmoid(x)\n",
    "# plt.plot(x,y)\n",
    "# plt.show()\n",
    "\n",
    "def reLU(x):\n",
    "    \"\"\" reLU 함수 \"\"\"\n",
    "    return (np.maximum(x, 0))\n",
    "\n",
    "# print(reLU(x1))\n",
    "\n",
    "# x = np.arange(-5.0, 5.0, 0.1)\n",
    "# y = reLU(x)\n",
    "# plt.plot(x,y)\n",
    "# plt.show()\n",
    "\n",
    "def softmax(x):\n",
    "    \"\"\" softmax 다차원 가능 \"\"\"\n",
    "    if x.ndim == 1:\n",
    "        x = x.reshape(1,-1)\n",
    "        \n",
    "    exp_a = np.exp(x - x.max(axis=1).reshape(-1,1))\n",
    "    sum_exp_a = exp_a.sum(1).reshape(-1,1)\n",
    "    return exp_a / sum_exp_a\n",
    "\n",
    "# print(softmax(x1))\n",
    "# print(softmax(x3))\n",
    "\n",
    "def softmax1(x):\n",
    "    if x.ndim == 2:\n",
    "        x = x.T\n",
    "        x = x - np.max(x, axis=0)\n",
    "        y = np.exp(x) / np.sum(np.exp(x), axis=0)\n",
    "\n",
    "        return y.T\n",
    "\n",
    "    x = x - np.max(x)  # 오버플로 대책\n",
    "    return np.exp(x) / np.sum(np.exp(x))\n",
    "# print(softmax1(x1))\n",
    "# print(softmax1(x3))\n",
    "# print(softmax(x3).sum(1))\n",
    "\n",
    "# x = np.arange(-5.0, 5.0, 0.1)\n",
    "# y = reLU(x)\n",
    "# plt.plot(x,y)\n",
    "# plt.show()"
   ]
  }
 ],
 "metadata": {
  "kernelspec": {
   "display_name": "Python 3",
   "language": "python",
   "name": "python3"
  },
  "language_info": {
   "codemirror_mode": {
    "name": "ipython",
    "version": 3
   },
   "file_extension": ".py",
   "mimetype": "text/x-python",
   "name": "python",
   "nbconvert_exporter": "python",
   "pygments_lexer": "ipython3",
   "version": "3.7.6"
  }
 },
 "nbformat": 4,
 "nbformat_minor": 4
}
