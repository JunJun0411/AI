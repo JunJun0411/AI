{
 "cells": [
  {
   "cell_type": "code",
   "execution_count": 1,
   "metadata": {},
   "outputs": [
    {
     "name": "stdout",
     "output_type": "stream",
     "text": [
      "[0 1 0 1 0 1]\n",
      "[0.26894142 0.73105858 0.5        1.         0.         1.        ]\n",
      "[    0     1     0   800     0 10000]\n",
      "[0. 0. 0. 0. 0. 1.]\n",
      "1.0\n"
     ]
    },
    {
     "name": "stderr",
     "output_type": "stream",
     "text": [
      "C:\\Users\\Jun\\anaconda3\\lib\\site-packages\\ipykernel_launcher.py:19: RuntimeWarning: overflow encountered in exp\n"
     ]
    }
   ],
   "source": [
    "import numpy as np\n",
    "import matplotlib.pyplot as plt\n",
    "\n",
    "x1 = np.array([-1, 1, 0, 800, -900, 10000])\n",
    "x2 = np.array([-1, 4, 7, -9])\n",
    "\n",
    "def step_function(x):\n",
    "    return (np.array(x>0, dtype=np.int8))\n",
    "\n",
    "# print(step_function(1))\n",
    "print(step_function(x1))\n",
    "\n",
    "# x = np.arange(-5.0, 5.0, 0.1)\n",
    "# y = step_function(x)\n",
    "# plt.plot(x,y)\n",
    "# plt.show()\n",
    "\n",
    "def sigmoid(x):\n",
    "    return (1 / (1+np.exp(-x)))\n",
    "\n",
    "print(sigmoid(x1))\n",
    "\n",
    "# x = np.arange(-5.0, 5.0, 0.1)\n",
    "# y = sigmoid(x)\n",
    "# plt.plot(x,y)\n",
    "# plt.show()\n",
    "\n",
    "def reLU(x):\n",
    "    return (np.maximum(x, 0))\n",
    "\n",
    "print(reLU(x1))\n",
    "\n",
    "# x = np.arange(-5.0, 5.0, 0.1)\n",
    "# y = reLU(x)\n",
    "# plt.plot(x,y)\n",
    "# plt.show()\n",
    "\n",
    "def softmax(x):\n",
    "    exp_a = np.exp(x - np.max(x))\n",
    "    sum_exp_a = np.sum(exp_a)\n",
    "#     print(exp_a)\n",
    "#     print(sum_exp_a)\n",
    "    return exp_a / sum_exp_a\n",
    "\n",
    "print(Softmax(x1))\n",
    "print(np.sum(Softmax(x1)))\n",
    "\n",
    "# x = np.arange(-5.0, 5.0, 0.1)\n",
    "# y = reLU(x)\n",
    "# plt.plot(x,y)\n",
    "# plt.show()"
   ]
  }
 ],
 "metadata": {
  "kernelspec": {
   "display_name": "Python 3",
   "language": "python",
   "name": "python3"
  },
  "language_info": {
   "codemirror_mode": {
    "name": "ipython",
    "version": 3
   },
   "file_extension": ".py",
   "mimetype": "text/x-python",
   "name": "python",
   "nbconvert_exporter": "python",
   "pygments_lexer": "ipython3",
   "version": "3.7.6"
  }
 },
 "nbformat": 4,
 "nbformat_minor": 4
}
