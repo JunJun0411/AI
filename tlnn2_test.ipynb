{
 "cells": [
  {
   "cell_type": "code",
   "execution_count": 6,
   "metadata": {},
   "outputs": [
    {
     "name": "stdout",
     "output_type": "stream",
     "text": [
      "{'W1': array([[-0.26138662, -0.39887346, -0.62492893],\n",
      "       [-0.12363269, -0.48881804,  0.22821625]]), 'b1': array([0.88922744, 1.06204322, 1.51649817]), 'W2': array([[-0.15533564, -0.43378379],\n",
      "       [ 0.5214218 , -0.07915454],\n",
      "       [-0.94671285, -2.16738435]]), 'b2': array([-0.80648844, -0.14204853])}\n",
      "[0.70381064 0.29618936]\n"
     ]
    }
   ],
   "source": [
    "import numpy as np\n",
    "from tlnn2 import TwoLayerNeuralNetwork2\n",
    "\n",
    "input_size = 2\n",
    "hidden_size = 3\n",
    "output_size = 2\n",
    "tn2 = TwoLayerNeuralNetwork2(input_size, hidden_size, output_size)\n",
    "\n",
    "print(tn2.params)\n",
    "\n",
    "x = np.array([0.5, 0.8])\n",
    "print(tn2.predict(x))"
   ]
  }
 ],
 "metadata": {
  "kernelspec": {
   "display_name": "Python 3",
   "language": "python",
   "name": "python3"
  },
  "language_info": {
   "codemirror_mode": {
    "name": "ipython",
    "version": 3
   },
   "file_extension": ".py",
   "mimetype": "text/x-python",
   "name": "python",
   "nbconvert_exporter": "python",
   "pygments_lexer": "ipython3",
   "version": "3.7.6"
  }
 },
 "nbformat": 4,
 "nbformat_minor": 4
}
